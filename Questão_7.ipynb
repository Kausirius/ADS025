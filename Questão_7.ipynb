{
  "nbformat": 4,
  "nbformat_minor": 0,
  "metadata": {
    "colab": {
      "name": "Questão 7",
      "provenance": [],
      "collapsed_sections": [],
      "authorship_tag": "ABX9TyOpYFyRG5CEH5PnMbLkJlXG",
      "include_colab_link": true
    },
    "kernelspec": {
      "name": "python3",
      "display_name": "Python 3"
    }
  },
  "cells": [
    {
      "cell_type": "markdown",
      "metadata": {
        "id": "view-in-github",
        "colab_type": "text"
      },
      "source": [
        "<a href=\"https://colab.research.google.com/github/Kausirius/ADS025/blob/master/Quest%C3%A3o_7.ipynb\" target=\"_parent\"><img src=\"https://colab.research.google.com/assets/colab-badge.svg\" alt=\"Open In Colab\"/></a>"
      ]
    },
    {
      "cell_type": "code",
      "metadata": {
        "id": "9wd-5jWg0bXx"
      },
      "source": [
        "# Disciplina: Probabilidade e Estatística\n",
        "# Aluno(a): Kauana Milena Oliveira de Lisboa\n",
        "# Lista 4\n",
        "\n",
        "# Questão 7 #\n",
        "\n",
        "num1 = int(input('Digite um número: ')) #declara o número\n",
        "while (num1 < 1 or num1 > 4): #corresponde a formula de 1 a 4\n",
        "      print('Entrada Invalida') #imprime\n",
        "      num1 = int(input('Digite um número novamente: ')) #declara um novo número\n",
        "else:\n",
        "      print(num1)\n",
        "\n"
      ],
      "execution_count": null,
      "outputs": []
    }
  ]
}