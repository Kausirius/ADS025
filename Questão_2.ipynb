{
  "nbformat": 4,
  "nbformat_minor": 0,
  "metadata": {
    "colab": {
      "name": "Questão 2",
      "provenance": [],
      "collapsed_sections": [],
      "authorship_tag": "ABX9TyOjcCzzr680FSQWC7I/oe5R",
      "include_colab_link": true
    },
    "kernelspec": {
      "name": "python3",
      "display_name": "Python 3"
    }
  },
  "cells": [
    {
      "cell_type": "markdown",
      "metadata": {
        "id": "view-in-github",
        "colab_type": "text"
      },
      "source": [
        "<a href=\"https://colab.research.google.com/github/Kausirius/ADS025/blob/master/Quest%C3%A3o_2.ipynb\" target=\"_parent\"><img src=\"https://colab.research.google.com/assets/colab-badge.svg\" alt=\"Open In Colab\"/></a>"
      ]
    },
    {
      "cell_type": "code",
      "metadata": {
        "colab": {
          "base_uri": "https://localhost:8080/"
        },
        "id": "vFr-_cQQ1zxK",
        "outputId": "ec3d977a-4465-4d7b-872e-5e77becbf9e2"
      },
      "source": [
        "# Disciplina: Probabilidade e Estatística\n",
        "# Aluno(a): Kauana Milena Oliveira de Lisboa\n",
        "# Lista 4\n",
        "\n",
        "# Questão 2 #\n",
        "\n",
        "lados = int(input('Digite a medida dos lados: ')) #declara o lado\n",
        "lado = int(input ('Digite a medida do lado: ')) #declara o lado\n",
        "if  lados == 3: #cod triangulo\n",
        "    area = lado ** 2 * 3 ** (1/2) / 4 #formula do triangulo\n",
        "    print('O objeto é um triangulo. ')\n",
        "    print('A área é: %.2fcm' %area)\n",
        "elif  lados == 4: #cod quadrado\n",
        "    area = lado ** 2 #formula do quadrado\n",
        "    print('O objeto é um quadrado. ')\n",
        "    print('A área é: %.2fcm' %area)\n",
        "elif  lados == 5: #cod pentágono\n",
        "    area = lado ** 5 #formula do pentágono\n",
        "    print('O objeto é um pentágono. ') #imprime\n",
        "elif (lados < 3 ):\n",
        "    print('Não é um polígono.')\n",
        "else:\n",
        "  print('Polígono não identificado.')"
      ],
      "execution_count": null,
      "outputs": [
        {
          "output_type": "stream",
          "text": [
            "Digite a medida dos lados: 99\n",
            "Digite a medida do lado: 88\n",
            "Polígono não identificado.\n"
          ],
          "name": "stdout"
        }
      ]
    }
  ]
}