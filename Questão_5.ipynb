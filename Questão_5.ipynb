{
  "nbformat": 4,
  "nbformat_minor": 0,
  "metadata": {
    "colab": {
      "name": "Questão 5",
      "provenance": [],
      "collapsed_sections": [],
      "authorship_tag": "ABX9TyP2XOZr1YcoLaR+LU0rg6yD",
      "include_colab_link": true
    },
    "kernelspec": {
      "name": "python3",
      "display_name": "Python 3"
    }
  },
  "cells": [
    {
      "cell_type": "markdown",
      "metadata": {
        "id": "view-in-github",
        "colab_type": "text"
      },
      "source": [
        "<a href=\"https://colab.research.google.com/github/Kausirius/ADS025/blob/master/Quest%C3%A3o_5.ipynb\" target=\"_parent\"><img src=\"https://colab.research.google.com/assets/colab-badge.svg\" alt=\"Open In Colab\"/></a>"
      ]
    },
    {
      "cell_type": "code",
      "metadata": {
        "id": "C58EH2KNyPnX",
        "colab": {
          "base_uri": "https://localhost:8080/"
        },
        "outputId": "fbd18a55-371a-4eff-f48a-d90c32263e79"
      },
      "source": [
        "# Disciplina: Probabilidade e Estatística\n",
        "# Aluno(a): Kauana Milena Oliveira de Lisboa\n",
        "# Lista 4\n",
        "\n",
        "# Questão 5 #\n",
        "\n",
        "lados = int(input('Digite a medida dos lados: ')) #Corresponde aos lados\n",
        "lado = int(input('Digite a medida do lado: ')) #Corresponde ao lado\n",
        "if  lados == 3: #cod Acutângulo\n",
        "    area = lado ** 2 * 3 ** (1/2) / 4 #formula do Acutângulo\n",
        "    print('O objeto é um Acutângulo. ')\n",
        "    print('A área é: %.2fcm' %area)\n",
        "elif  lados == 4: #cod Retângulo\n",
        "    area = lado ** 2 #formula do Retângulo\n",
        "    print('O objeto é um Retângulo. ')\n",
        "    print('A área é: %.2fcm' %area)\n",
        "elif  lados == 5: #cod Obtusângulo\n",
        "    area = lado ** 5 #formula do Obtusângulo\n",
        "    print('O objeto é um Obtusângulo. ')\n",
        "    print('A área é: %.2fcm' %area) #imprime\n"
      ],
      "execution_count": null,
      "outputs": [
        {
          "output_type": "stream",
          "text": [
            "Digite a medida dos lados: 4\n",
            "Digite a medida do lado: 4\n",
            "O objeto é um Retângulo. \n",
            "A área é: 16.00cm\n"
          ],
          "name": "stdout"
        }
      ]
    }
  ]
}