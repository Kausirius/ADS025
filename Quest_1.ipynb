{
  "nbformat": 4,
  "nbformat_minor": 0,
  "metadata": {
    "colab": {
      "name": "Quest 1",
      "provenance": [],
      "collapsed_sections": [],
      "authorship_tag": "ABX9TyO3dhINXG2cfB6xTwK1/M6k",
      "include_colab_link": true
    },
    "kernelspec": {
      "name": "python3",
      "display_name": "Python 3"
    }
  },
  "cells": [
    {
      "cell_type": "markdown",
      "metadata": {
        "id": "view-in-github",
        "colab_type": "text"
      },
      "source": [
        "<a href=\"https://colab.research.google.com/github/Kausirius/ADS025/blob/master/Quest_1.ipynb\" target=\"_parent\"><img src=\"https://colab.research.google.com/assets/colab-badge.svg\" alt=\"Open In Colab\"/></a>"
      ]
    },
    {
      "cell_type": "code",
      "metadata": {
        "colab": {
          "base_uri": "https://localhost:8080/"
        },
        "id": "w-4fc1vx0wjQ",
        "outputId": "85f32845-fa2b-4459-b733-00a0f0a4485b"
      },
      "source": [
        "# Disciplina: Probabilidade e Estatística\n",
        "# Aluno(a): Kauana Milena Oliveira de Lisboa\n",
        "# Lista 4\n",
        "\n",
        "# Questão 1 #\n",
        "\n",
        "lados = int(input('Digite a medida dos lados: ')) #Corresponde aos lados\n",
        "lado = int(input('Digite a medida do lado: ')) #Corresponde ao lado\n",
        "if  lados == 3: #cod triangulo\n",
        "    area = lado ** 2 * 3 ** (1/2) / 4 #formula do triangulo\n",
        "    print('O objeto é um triangulo. ')\n",
        "    print('A área é: %.2fcm' %area)\n",
        "elif  lados == 4: #cod quadrado\n",
        "    area = lado ** 2 #formula do quadrado\n",
        "    print('O objeto é um quadrado. ')\n",
        "    print('A área é: %.2fcm' %area)\n",
        "elif  lados == 5: #cod pentágono\n",
        "    area = lado ** 5 #formula do pentágono\n",
        "    print('O objeto é um pentágono. ')\n",
        "    print('A área é: %.2fcm' %area) #imprime\n",
        "\n"
      ],
      "execution_count": null,
      "outputs": [
        {
          "output_type": "stream",
          "text": [
            "Digite a medida dos lados: 3\n",
            "Digite a medida do lado: 3\n",
            "O objeto é um triangulo. \n",
            "A área é: 3.90cm\n"
          ],
          "name": "stdout"
        }
      ]
    }
  ]
}