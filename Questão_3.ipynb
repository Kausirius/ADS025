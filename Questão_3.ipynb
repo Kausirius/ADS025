{
  "nbformat": 4,
  "nbformat_minor": 0,
  "metadata": {
    "colab": {
      "name": "Questão 3",
      "provenance": [],
      "collapsed_sections": [],
      "authorship_tag": "ABX9TyOlbZ5gPr290jhgEhXfgF1B",
      "include_colab_link": true
    },
    "kernelspec": {
      "name": "python3",
      "display_name": "Python 3"
    }
  },
  "cells": [
    {
      "cell_type": "markdown",
      "metadata": {
        "id": "view-in-github",
        "colab_type": "text"
      },
      "source": [
        "<a href=\"https://colab.research.google.com/github/Kausirius/ADS025/blob/master/Quest%C3%A3o_3.ipynb\" target=\"_parent\"><img src=\"https://colab.research.google.com/assets/colab-badge.svg\" alt=\"Open In Colab\"/></a>"
      ]
    },
    {
      "cell_type": "code",
      "metadata": {
        "colab": {
          "base_uri": "https://localhost:8080/"
        },
        "id": "dF1m3pXF5Ckf",
        "outputId": "6994434f-8331-4992-84ad-6357658e3462"
      },
      "source": [
        "# Disciplina: Probabilidade e Estatística\n",
        "# Aluno(a): Kauana Milena Oliveira de Lisboa\n",
        "# Lista 4\n",
        "\n",
        "# Questão 3 #\n",
        "\n",
        "num1 = int(input('Digite o primeiro número ')) #declara o número\n",
        "num2 = int(input('Digite o segundo número ')) #declara o número\n",
        "num3 = int(input('Digite o terceiro número ')) #declara o número\n",
        "if  num1 > num2 & num1 > num3: #formula do 1 maior\n",
        "    print(num1, 'é maior')\n",
        "elif num2 > num1 & num2 > num3: #formula do 2 maior\n",
        "    print(num2, 'é maior')\n",
        "elif num3 > num1 & num3 > num2: #formula do 3 maior\n",
        "    print(num2, 'é maior')\n",
        "else:\n",
        "  print('Não repita os números.') #imprime"
      ],
      "execution_count": null,
      "outputs": [
        {
          "output_type": "stream",
          "text": [
            "Digite o primeiro número 99\n",
            "Digite o segundo número 88\n",
            "Digite o terceiro número 1\n",
            "99 é maior\n"
          ],
          "name": "stdout"
        }
      ]
    }
  ]
}