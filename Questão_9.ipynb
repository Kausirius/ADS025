{
  "nbformat": 4,
  "nbformat_minor": 0,
  "metadata": {
    "colab": {
      "name": "Questão 9",
      "provenance": [],
      "collapsed_sections": [],
      "authorship_tag": "ABX9TyOtFnBeza2+GMtq4aBX/wfT",
      "include_colab_link": true
    },
    "kernelspec": {
      "name": "python3",
      "display_name": "Python 3"
    }
  },
  "cells": [
    {
      "cell_type": "markdown",
      "metadata": {
        "id": "view-in-github",
        "colab_type": "text"
      },
      "source": [
        "<a href=\"https://colab.research.google.com/github/Kausirius/ADS025/blob/master/Quest%C3%A3o_9.ipynb\" target=\"_parent\"><img src=\"https://colab.research.google.com/assets/colab-badge.svg\" alt=\"Open In Colab\"/></a>"
      ]
    },
    {
      "cell_type": "code",
      "metadata": {
        "id": "2Ycz5js6yNL7"
      },
      "source": [
        "# Disciplina: Probabilidade e Estatística\n",
        "# Aluno(a): Kauana Milena Oliveira de Lisboa\n",
        "# Lista 4\n",
        "\n",
        "# Questão 9 #\n",
        "\n",
        "num1 = int(input('Digite um número: ')) #Declara o valor\n",
        "unidade = num1 // 1 % 10 #Formula unidade\n",
        "dezena = num1 // 10 % 10 #Formula dezena\n",
        "centena = num1 // 100 % 10 #Formula centena\n",
        "milhar = num1 // 1000 % 10 #Formula milhar\n",
        "print('Unidade:', unidade)\n",
        "print('Dezena:', dezena)\n",
        "print('Centena:', centena)\n",
        "print('Milhar:', milhar)"
      ],
      "execution_count": null,
      "outputs": []
    }
  ]
}