{
  "nbformat": 4,
  "nbformat_minor": 0,
  "metadata": {
    "colab": {
      "name": "Questão 6",
      "provenance": [],
      "collapsed_sections": [],
      "authorship_tag": "ABX9TyPhipPNUg/uo0T6PL31UNVp",
      "include_colab_link": true
    },
    "kernelspec": {
      "name": "python3",
      "display_name": "Python 3"
    }
  },
  "cells": [
    {
      "cell_type": "markdown",
      "metadata": {
        "id": "view-in-github",
        "colab_type": "text"
      },
      "source": [
        "<a href=\"https://colab.research.google.com/github/Kausirius/ADS025/blob/master/Quest%C3%A3o_6.ipynb\" target=\"_parent\"><img src=\"https://colab.research.google.com/assets/colab-badge.svg\" alt=\"Open In Colab\"/></a>"
      ]
    },
    {
      "cell_type": "code",
      "metadata": {
        "id": "VHzmta-zyQdN"
      },
      "source": [
        "# Disciplina: Probabilidade e Estatística\n",
        "# Aluno(a): Kauana Milena Oliveira de Lisboa\n",
        "# Lista 4\n",
        "\n",
        "# Questão 6 #\n",
        "\n",
        "num1 = int(input('Digite o número: ')) #declara o número\n",
        "for imprimir in range(num1): #corresponde à formula\n",
        "  print(imprimir) #imprime"
      ],
      "execution_count": null,
      "outputs": []
    }
  ]
}