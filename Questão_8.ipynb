{
  "nbformat": 4,
  "nbformat_minor": 0,
  "metadata": {
    "colab": {
      "name": "Questão 8",
      "provenance": [],
      "collapsed_sections": [],
      "authorship_tag": "ABX9TyMqn2GXNfdmgsEHESFl1vOu",
      "include_colab_link": true
    },
    "kernelspec": {
      "name": "python3",
      "display_name": "Python 3"
    }
  },
  "cells": [
    {
      "cell_type": "markdown",
      "metadata": {
        "id": "view-in-github",
        "colab_type": "text"
      },
      "source": [
        "<a href=\"https://colab.research.google.com/github/Kausirius/ADS025/blob/master/Quest%C3%A3o_8.ipynb\" target=\"_parent\"><img src=\"https://colab.research.google.com/assets/colab-badge.svg\" alt=\"Open In Colab\"/></a>"
      ]
    },
    {
      "cell_type": "code",
      "metadata": {
        "id": "0G0Ng7zdyOEQ"
      },
      "source": [
        "# Disciplina: Probabilidade e Estatística\n",
        "# Aluno(a): Kauana Milena Oliveira de Lisboa\n",
        "# Lista 4\n",
        "\n",
        "# Questão 8 #\n",
        "\n",
        "valor1 = int(input('Digite o primeiro valor: ')) #declara o valor1\n",
        "valor2 = int(input('Digite o segundo valor: ')) #declara o valor2\n",
        "valor3 = int(input('Digite o terceiro valor: ')) #declara o valor3\n",
        "if valor1 > valor2 > valor3: #formula do primeiro\n",
        "  print(valor1, 'É maior')\n",
        "elif valor2 > valor1 > valor3: #formula do segundo\n",
        "  print(valor2, 'É maior')\n",
        "elif valor3 > valor1 > valor2: #formula do terceiro\n",
        "  print(valor3, 'É maior')\n"
      ],
      "execution_count": null,
      "outputs": []
    }
  ]
}