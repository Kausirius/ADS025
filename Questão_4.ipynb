{
  "nbformat": 4,
  "nbformat_minor": 0,
  "metadata": {
    "colab": {
      "name": "Questão 4",
      "provenance": [],
      "collapsed_sections": [],
      "authorship_tag": "ABX9TyMj4rW/aQ/v/Q3EEyz4SFfI",
      "include_colab_link": true
    },
    "kernelspec": {
      "name": "python3",
      "display_name": "Python 3"
    }
  },
  "cells": [
    {
      "cell_type": "markdown",
      "metadata": {
        "id": "view-in-github",
        "colab_type": "text"
      },
      "source": [
        "<a href=\"https://colab.research.google.com/github/Kausirius/ADS025/blob/master/Quest%C3%A3o_4.ipynb\" target=\"_parent\"><img src=\"https://colab.research.google.com/assets/colab-badge.svg\" alt=\"Open In Colab\"/></a>"
      ]
    },
    {
      "cell_type": "code",
      "metadata": {
        "colab": {
          "base_uri": "https://localhost:8080/"
        },
        "id": "G99htdtP7jOf",
        "outputId": "9fcb6c22-8d9d-46f1-b8f7-ab676ea5ee7d"
      },
      "source": [
        "# Disciplina: Probabilidade e Estatística\n",
        "# Aluno(a): Kauana Milena Oliveira de Lisboa\n",
        "# Lista 4\n",
        "\n",
        "# Questão 4 #\n",
        "\n",
        "lado1 = input('Digite a primeira medida: ') #declara a medida\n",
        "lado2 = input('Digite a segunda medida: ') #declara a medida\n",
        "lado3 = input('Digite a terceira medida: ') #declara a medida\n",
        "if lado1 == lado2 and lado1 == lado3 and lado2 == lado3 : #formula de um equilatero\n",
        "  print('Equilatero. ');\n",
        "elif lado1 == lado2 or lado1 == lado3 or lado2 == lado3:  #formula de um isosceles\n",
        "  print('Isosceles. ');\n",
        "elif lado1 != lado2 and lado2 != lado3 and lado1 != lado3:  #formula de um escaleno\n",
        "  print('Escaleno. ');"
      ],
      "execution_count": null,
      "outputs": [
        {
          "output_type": "stream",
          "text": [
            "Digite a primeira medida: 3\n",
            "Digite a segunda medida: 2\n",
            "Digite a terceira medida: 3\n",
            "Isosceles. \n"
          ],
          "name": "stdout"
        }
      ]
    }
  ]
}